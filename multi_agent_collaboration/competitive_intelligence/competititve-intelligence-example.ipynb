{
 "cells": [
  {
   "cell_type": "markdown",
   "metadata": {},
   "source": [
    "# Q&A with the Compettitive Intelligence Agent\n",
    "\n",
    "This notebook demonstrates how to perform business analysis of companies using a multi-agent system."
   ]
  },
  {
   "cell_type": "markdown",
   "metadata": {},
   "source": [
    "## 1. Setup"
   ]
  },
  {
   "cell_type": "code",
   "execution_count": null,
   "metadata": {},
   "outputs": [],
   "source": [
    "import boto3\n",
    "import botocore\n",
    "import datetime\n",
    "import json\n",
    "import logging\n",
    "import uuid\n",
    "\n",
    "# getting boto3 clients for required AWS services\n",
    "session = boto3.session.Session()\n",
    "sts_client = session.client(\"sts\")\n",
    "iam_client = session.client(\"iam\")\n",
    "lambda_client = session.client(\"lambda\")\n",
    "bedrock_agent_client = session.client(\"bedrock-agent\")\n",
    "bedrock_agent_runtime_client = session.client(\"bedrock-agent-runtime\")\n",
    "region = session.region_name\n",
    "account_id = sts_client.get_caller_identity()[\"Account\"]\n",
    "print(f\"{region=}\\n{account_id=}\")"
   ]
  },
  {
   "cell_type": "markdown",
   "metadata": {},
   "source": [
    "## 2. Define Helper Functions"
   ]
  },
  {
   "cell_type": "code",
   "execution_count": null,
   "metadata": {},
   "outputs": [],
   "source": [
    "logging.basicConfig(format='[%(asctime)s] p%(process)s {%(filename)s:%(lineno)d} %(levelname)s - %(message)s', level=logging.INFO)\n",
    "logger = logging.getLogger(__name__)\n",
    "\n",
    "def get_hcls_agent(\n",
    "    name_starts_with: str, bedrock_agent_client: botocore.client\n",
    ") -> list[dict]:\n",
    "    \"\"\"\n",
    "    Get the list of agents whose name starts with the given string.\n",
    "    Uses pagination to handle large result sets.\n",
    "    \"\"\"\n",
    "    agent_info = []\n",
    "    paginator = bedrock_agent_client.get_paginator('list_agents')\n",
    "    \n",
    "    # Iterate through each page of results\n",
    "    for page in paginator.paginate():\n",
    "        # Process each page of results\n",
    "        for agent in page.get(\"agentSummaries\", []):\n",
    "            if agent[\"agentName\"].startswith(name_starts_with):\n",
    "                agent_info.append({\"name\": agent[\"agentName\"], \"id\": agent[\"agentId\"]})\n",
    "    \n",
    "    return agent_info\n",
    "\n",
    "\n",
    "\n",
    "def get_agent_alias(agent_id: str, bedrock_agent_client: botocore.client) -> list[dict]:\n",
    "    \"\"\"\n",
    "    Get the list of aliases for the given agent.\n",
    "    Uses pagination to handle large result sets.\n",
    "    \"\"\"\n",
    "    alias_info = []\n",
    "    paginator = bedrock_agent_client.get_paginator('list_agent_aliases')\n",
    "    \n",
    "    # Iterate through each page of results\n",
    "    for page in paginator.paginate(agentId=agent_id):\n",
    "        # Process each page of results\n",
    "        for alias in page.get(\"agentAliasSummaries\", []):\n",
    "            alias_info.append({\"name\": alias[\"agentAliasName\"], \"id\": alias[\"agentAliasId\"]})\n",
    "    \n",
    "    return alias_info\n",
    "\n",
    "\n",
    "def invoke_agent_helper(\n",
    "    query, session_id, agent_id, alias_id, enable_trace=False, session_state=None, end_session=False\n",
    "):\n",
    "    if not session_state:\n",
    "        session_state = {\"promptSessionAttributes\": {\"today\": str(datetime.date.today())}}\n",
    "\n",
    "    # invoke the agent API\n",
    "    agent_response = bedrock_agent_runtime_client.invoke_agent(\n",
    "        inputText=query,\n",
    "        agentId=agent_id,\n",
    "        agentAliasId=alias_id,\n",
    "        sessionId=session_id,\n",
    "        enableTrace=enable_trace,\n",
    "        endSession=end_session,\n",
    "        sessionState=session_state\n",
    "    )\n",
    "\n",
    "    event_stream = agent_response['completion']\n",
    "    try:\n",
    "        for event in event_stream:\n",
    "            if 'chunk' in event:\n",
    "                data = event['chunk']['bytes']\n",
    "                if enable_trace:\n",
    "                    logger.info(f\"Final answer ->\\n{data.decode('utf8')}\")\n",
    "                agent_answer = data.decode('utf8').strip()\n",
    "                logger.info(agent_answer)\n",
    "                return None\n",
    "                # End event indicates that the request finished successfully\n",
    "            elif 'trace' in event:\n",
    "                if enable_trace:\n",
    "                    logger.info(json.dumps(event['trace']['trace'], indent=2))\n",
    "            else:\n",
    "                raise Exception(\"unexpected event.\", event)\n",
    "    except Exception as e:\n",
    "        raise Exception(\"unexpected event.\", e)\n",
    "\n"
   ]
  },
  {
   "cell_type": "markdown",
   "metadata": {},
   "source": [
    "## 3. Get Agent Details"
   ]
  },
  {
   "cell_type": "code",
   "execution_count": null,
   "metadata": {},
   "outputs": [],
   "source": [
    "available_agents = get_hcls_agent(\"Competitive-Intelligence-Agent\", bedrock_agent_client)\n",
    "current_agent = available_agents[0]\n",
    "print(f\"Current agent name: {current_agent['name']}\")\n",
    "print(f\"Current agent id: {current_agent['id']}\")\n",
    "\n",
    "current_agent_alias = get_agent_alias(current_agent['id'], bedrock_agent_client)[0]\n",
    "print(f\"Current agent alias: {current_agent_alias['id']}\")\n",
    "\n",
    "session_id:str = str(uuid.uuid1())\n",
    "agent_id = current_agent['id']\n",
    "agent_alias_id = current_agent_alias['id']"
   ]
  },
  {
   "cell_type": "markdown",
   "metadata": {},
   "source": [
    "## 4. Chat with Agent"
   ]
  },
  {
   "cell_type": "code",
   "execution_count": null,
   "metadata": {},
   "outputs": [],
   "source": [
    "invoke_agent_helper(\n",
    "    \"Please write a competitive intelligence report on Eli Lilly, focusing on recent news about their R&D pipeline and any patent filings in the past 200 days related to tirzepatide or zepbound.\",\n",
    "    session_id,\n",
    "    agent_id,\n",
    "    agent_alias_id,\n",
    "    enable_trace=True,\n",
    ")"
   ]
  },
  {
   "cell_type": "code",
   "execution_count": null,
   "metadata": {},
   "outputs": [],
   "source": []
  }
 ],
 "metadata": {
  "kernelspec": {
   "display_name": "venv",
   "language": "python",
   "name": "python3"
  },
  "language_info": {
   "codemirror_mode": {
    "name": "ipython",
    "version": 3
   },
   "file_extension": ".py",
   "mimetype": "text/x-python",
   "name": "python",
   "nbconvert_exporter": "python",
   "pygments_lexer": "ipython3",
   "version": "3.12.8"
  }
 },
 "nbformat": 4,
 "nbformat_minor": 2
}
